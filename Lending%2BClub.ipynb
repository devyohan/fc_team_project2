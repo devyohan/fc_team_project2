{
 "cells": [
  {
   "cell_type": "code",
   "execution_count": null,
   "metadata": {
    "collapsed": true
   },
   "outputs": [],
   "source": [
    "Q1 = pd.read_csv('hosthome/loanstats/LoanStats_2016Q1.csv', skiprows=1)\n",
    "Q2 = pd.read_csv('hosthome/loanstats/LoanStats_2016Q2.csv', skiprows=1)\n",
    "Q3 = pd.read_csv('hosthome/loanstats/LoanStats_2016Q3.csv', skiprows=1)\n",
    "Q4 = pd.read_csv('hosthome/loanstats/LoanStats_2016Q4.csv', skiprows=1)"
   ]
  },
  {
   "cell_type": "code",
   "execution_count": null,
   "metadata": {
    "collapsed": true,
    "scrolled": false
   },
   "outputs": [],
   "source": [
    "# Nan 값인 컬럼 지우기\n",
    "pd.options.display.max_rows = 125\n",
    "Q1.drop(Q1.columns[Q1.isnull().sum() >= 130000].tolist(), axis=1, inplace=True)\n",
    "Q2.drop(Q2.columns[Q2.isnull().sum() >= 90000].tolist(), axis=1, inplace=True)\n",
    "Q3.drop(Q3.columns[Q3.isnull().sum() >= 90000].tolist(), axis=1, inplace=True)\n",
    "Q4.drop(Q4.columns[Q4.isnull().sum() >= 90000].tolist(), axis=1, inplace=True)"
   ]
  },
  {
   "cell_type": "code",
   "execution_count": null,
   "metadata": {
    "collapsed": true
   },
   "outputs": [],
   "source": [
    "# 데이터 결합\n",
    "df0 = pd.concat([Q1, Q2, Q3, Q4], axis=0)"
   ]
  },
  {
   "cell_type": "code",
   "execution_count": 1,
   "metadata": {},
   "outputs": [],
   "source": [
    "import numpy as np\n",
    "import scipy as sp\n",
    "import pandas as pd\n",
    "\n",
    "df0 = pd.read_csv('lcdf2.csv')"
   ]
  },
  {
   "cell_type": "code",
   "execution_count": 2,
   "metadata": {},
   "outputs": [],
   "source": [
    "# 신청 타입 개인으로 한정\n",
    "df0.drop(df0.application_type[df0.application_type != 'INDIVIDUAL'].index, axis=0, inplace=True)"
   ]
  },
  {
   "cell_type": "code",
   "execution_count": 3,
   "metadata": {
    "collapsed": true
   },
   "outputs": [],
   "source": [
    "# 이자율 실수타입으로 변경\n",
    "def p2f(x):\n",
    "    return float(x.strip('%'))/100\n",
    "\n",
    "df0['int_rate'] = df0.int_rate.map(p2f)"
   ]
  },
  {
   "cell_type": "code",
   "execution_count": null,
   "metadata": {
    "collapsed": true
   },
   "outputs": [],
   "source": [
    "pd.options.display.max_columns = 110\n",
    "df0.loc[(df0.annual_inc >= 1000000), :].head()"
   ]
  },
  {
   "cell_type": "code",
   "execution_count": 87,
   "metadata": {},
   "outputs": [
    {
     "data": {
      "text/plain": [
       "<matplotlib.figure.Figure at 0x1af0168c320>"
      ]
     },
     "metadata": {},
     "output_type": "display_data"
    },
    {
     "data": {
      "image/png": "[encoded data removed]",
      "text/plain": [
       "<matplotlib.figure.Figure at 0x1af0166f198>"
      ]
     },
     "metadata": {},
     "output_type": "display_data"
    }
   ],
   "source": [
    "import seaborn as sns\n",
    "import matplotlib as mlt\n",
    "import matplotlib.pyplot as plt\n",
    "sns.jointplot('int_rate', 'tot_hi_cred_lim', data=df1, s=0.2)\n",
    "plt.show()"
   ]
  },
  {
   "cell_type": "code",
   "execution_count": null,
   "metadata": {
    "collapsed": true
   },
   "outputs": [],
   "source": [
    "def pearsonr2(df):\n",
    "    returns = pd.Series([0])\n",
    "    for i in df.columns:\n",
    "        if i == 'int_rate':\n",
    "            continue\n",
    "        else:\n",
    "            try:\n",
    "                returns[i] = sp.stats.pearsonr(df[i], df.int_rate)[0]\n",
    "            except:\n",
    "                continue\n",
    "    return returns"
   ]
  },
  {
   "cell_type": "code",
   "execution_count": 34,
   "metadata": {},
   "outputs": [
    {
     "name": "stdout",
     "output_type": "stream",
     "text": [
      "                            OLS Regression Results                            \n",
      "==============================================================================\n",
      "Dep. Variable:               int_rate   R-squared:                       0.050\n",
      "Model:                            OLS   Adj. R-squared:                  0.050\n",
      "Method:                 Least Squares   F-statistic:                     7483.\n",
      "Date:                Sat, 08 Jul 2017   Prob (F-statistic):               0.00\n",
      "Time:                        16:35:48   Log-Likelihood:             6.8549e+05\n",
      "No. Observations:              422724   AIC:                        -1.371e+06\n",
      "Df Residuals:                  422720   BIC:                        -1.371e+06\n",
      "Df Model:                           3                                         \n",
      "Covariance Type:            nonrobust                                         \n",
      "==============================================================================================\n",
      "                                 coef    std err          t      P>|t|      [0.025      0.975]\n",
      "----------------------------------------------------------------------------------------------\n",
      "Intercept                      0.1394      0.000   1123.510      0.000       0.139       0.140\n",
      "tot_hi_cred_lim            -1.955e-08   4.77e-10    -41.005      0.000   -2.05e-08   -1.86e-08\n",
      "total_il_high_credit_limit  7.362e-08   1.79e-09     41.181      0.000    7.01e-08    7.71e-08\n",
      "total_bc_limit             -4.209e-07   3.61e-09   -116.509      0.000   -4.28e-07   -4.14e-07\n",
      "==============================================================================\n",
      "Omnibus:                    49977.958   Durbin-Watson:                   1.847\n",
      "Prob(Omnibus):                  0.000   Jarque-Bera (JB):            70828.962\n",
      "Skew:                           0.922   Prob(JB):                         0.00\n",
      "Kurtosis:                       3.788   Cond. No.                     4.41e+05\n",
      "==============================================================================\n",
      "\n",
      "Warnings:\n",
      "[1] Standard Errors assume that the covariance matrix of the errors is correctly specified.\n",
      "[2] The condition number is large, 4.41e+05. This might indicate that there are\n",
      "strong multicollinearity or other numerical problems.\n"
     ]
    }
   ],
   "source": [
    "# 한도 위주 모형\n",
    "import statsmodels.api as sm\n",
    "model = sm.OLS.from_formula('int_rate ~ tot_hi_cred_lim + total_il_high_credit_limit + total_bc_limit', df0)\n",
    "result = model.fit()\n",
    "print(result.summary())"
   ]
  },
  {
   "cell_type": "code",
   "execution_count": 35,
   "metadata": {},
   "outputs": [
    {
     "data": {
      "image/png": "[encoded data removed]",
      "text/plain": [
       "<matplotlib.figure.Figure at 0x1af16848550>"
      ]
     },
     "metadata": {},
     "output_type": "display_data"
    }
   ],
   "source": [
    "# 연수입과 대출 이자율의 관계\n",
    "sns.jointplot('int_rate', 'annual_inc', data=df1, s=0.2)\n",
    "plt.show()"
   ]
  },
  {
   "cell_type": "code",
   "execution_count": 30,
   "metadata": {},
   "outputs": [],
   "source": [
    "# Fox' recommendation에 따라 특이점 제거, 그래도 모형은 망함\n",
    "df1 = df0.iloc[np.array(result.get_influence().cooks_distance)[0] < (4 / (df0.shape[0] - df0.shape[1] - 1)), :]"
   ]
  },
  {
   "cell_type": "code",
   "execution_count": 88,
   "metadata": {},
   "outputs": [
    {
     "name": "stdout",
     "output_type": "stream",
     "text": [
      "                            OLS Regression Results                            \n",
      "==============================================================================\n",
      "Dep. Variable:               int_rate   R-squared:                       0.082\n",
      "Model:                            OLS   Adj. R-squared:                  0.082\n",
      "Method:                 Least Squares   F-statistic:                     6235.\n",
      "Date:                Sat, 08 Jul 2017   Prob (F-statistic):               0.00\n",
      "Time:                        19:49:16   Log-Likelihood:             6.8559e+05\n",
      "No. Observations:              418039   AIC:                        -1.371e+06\n",
      "Df Residuals:                  418032   BIC:                        -1.371e+06\n",
      "Df Model:                           6                                         \n",
      "Covariance Type:            nonrobust                                         \n",
      "==================================================================================\n",
      "                     coef    std err          t      P>|t|      [0.025      0.975]\n",
      "----------------------------------------------------------------------------------\n",
      "Intercept          0.1217      0.001    140.798      0.000       0.120       0.123\n",
      "annual_inc     -3.275e-08   9.65e-10    -33.944      0.000   -3.46e-08   -3.09e-08\n",
      "dti                0.0011   9.63e-06    113.402      0.000       0.001       0.001\n",
      "delinq_2yrs        0.0007   8.68e-05      7.666      0.000       0.000       0.001\n",
      "bc_util            0.0003   2.68e-06    110.532      0.000       0.000       0.000\n",
      "num_sats          -0.0002   1.38e-05    -15.738      0.000      -0.000      -0.000\n",
      "pct_tl_nvr_dlq    -0.0003   8.91e-06    -29.471      0.000      -0.000      -0.000\n",
      "==============================================================================\n",
      "Omnibus:                    52779.775   Durbin-Watson:                   1.844\n",
      "Prob(Omnibus):                  0.000   Jarque-Bera (JB):            76864.729\n",
      "Skew:                           0.955   Prob(JB):                         0.00\n",
      "Kurtosis:                       3.876   Cond. No.                     1.33e+06\n",
      "==============================================================================\n",
      "\n",
      "Warnings:\n",
      "[1] Standard Errors assume that the covariance matrix of the errors is correctly specified.\n",
      "[2] The condition number is large, 1.33e+06. This might indicate that there are\n",
      "strong multicollinearity or other numerical problems.\n"
     ]
    },
    {
     "data": {
      "text/plain": [
       "422724"
      ]
     },
     "execution_count": 88,
     "metadata": {},
     "output_type": "execute_result"
    }
   ],
   "source": [
    "#연체 위주 모형 \n",
    "model1 = sm.OLS.from_formula('int_rate ~ annual_inc + dti + delinq_2yrs + bc_util + num_sats + pct_tl_nvr_dlq', df0)\n",
    "result1 = model1.fit()\n",
    "print(result1.summary())\n",
    "len(df0)"
   ]
  },
  {
   "cell_type": "code",
   "execution_count": 89,
   "metadata": {},
   "outputs": [
    {
     "data": {
      "text/plain": [
       "398774"
      ]
     },
     "execution_count": 89,
     "metadata": {},
     "output_type": "execute_result"
    }
   ],
   "source": [
    "# 특이점 제거(약 25k 제거)\n",
    "df2 = df0.iloc[np.array(result1.get_influence().cooks_distance[0] < (4 / (df0.shape[0] - df0.shape[1] - 1))), :]\n",
    "len(df2.index)"
   ]
  },
  {
   "cell_type": "code",
   "execution_count": 50,
   "metadata": {},
   "outputs": [
    {
     "name": "stdout",
     "output_type": "stream",
     "text": [
      "                            OLS Regression Results                            \n",
      "==============================================================================\n",
      "Dep. Variable:               int_rate   R-squared:                       0.083\n",
      "Model:                            OLS   Adj. R-squared:                  0.083\n",
      "Method:                 Least Squares   F-statistic:                     7097.\n",
      "Date:                Sat, 08 Jul 2017   Prob (F-statistic):               0.00\n",
      "Time:                        18:23:34   Log-Likelihood:             6.4691e+05\n",
      "No. Observations:              394377   AIC:                        -1.294e+06\n",
      "Df Residuals:                  394371   BIC:                        -1.294e+06\n",
      "Df Model:                           5                                         \n",
      "Covariance Type:            nonrobust                                         \n",
      "==================================================================================\n",
      "                     coef    std err          t      P>|t|      [0.025      0.975]\n",
      "----------------------------------------------------------------------------------\n",
      "Intercept          0.1247      0.001    158.110      0.000       0.123       0.126\n",
      "annual_inc     -3.168e-08   9.79e-10    -32.344      0.000   -3.36e-08   -2.98e-08\n",
      "dti                0.0011    9.9e-06    110.650      0.000       0.001       0.001\n",
      "bc_util            0.0003   2.75e-06    107.863      0.000       0.000       0.000\n",
      "num_sats          -0.0002   1.42e-05    -14.958      0.000      -0.000      -0.000\n",
      "pct_tl_nvr_dlq    -0.0003   8.14e-06    -36.572      0.000      -0.000      -0.000\n",
      "==============================================================================\n",
      "Omnibus:                    49902.425   Durbin-Watson:                   1.842\n",
      "Prob(Omnibus):                  0.000   Jarque-Bera (JB):            72744.664\n",
      "Skew:                           0.956   Prob(JB):                         0.00\n",
      "Kurtosis:                       3.880   Cond. No.                     1.19e+06\n",
      "==============================================================================\n",
      "\n",
      "Warnings:\n",
      "[1] Standard Errors assume that the covariance matrix of the errors is correctly specified.\n",
      "[2] The condition number is large, 1.19e+06. This might indicate that there are\n",
      "strong multicollinearity or other numerical problems.\n"
     ]
    }
   ],
   "source": [
    "# 특이점 제거 후 모형(bc_util에서 4천개가 비어있었음)\n",
    "model2 = sm.OLS.from_formula('int_rate ~ annual_inc + dti + delinq_2yrs + bc_util + num_sats + pct_tl_nvr_dlq', df2)\n",
    "result2 = model2.fit()\n",
    "print(result2.summary())"
   ]
  },
  {
   "cell_type": "code",
   "execution_count": 66,
   "metadata": {},
   "outputs": [
    {
     "name": "stdout",
     "output_type": "stream",
     "text": [
      "                            OLS Regression Results                            \n",
      "==============================================================================\n",
      "Dep. Variable:               int_rate   R-squared:                       0.083\n",
      "Model:                            OLS   Adj. R-squared:                  0.083\n",
      "Method:                 Least Squares   F-statistic:                     7097.\n",
      "Date:                Sat, 08 Jul 2017   Prob (F-statistic):               0.00\n",
      "Time:                        19:16:31   Log-Likelihood:             6.4691e+05\n",
      "No. Observations:              394377   AIC:                        -1.294e+06\n",
      "Df Residuals:                  394371   BIC:                        -1.294e+06\n",
      "Df Model:                           5                                         \n",
      "Covariance Type:            nonrobust                                         \n",
      "===========================================================================================\n",
      "                              coef    std err          t      P>|t|      [0.025      0.975]\n",
      "-------------------------------------------------------------------------------------------\n",
      "Intercept                   0.1247      0.001    158.110      0.000       0.123       0.126\n",
      "I(annual_inc / 1000000)    -0.0317      0.001    -32.344      0.000      -0.034      -0.030\n",
      "dti                         0.0011    9.9e-06    110.650      0.000       0.001       0.001\n",
      "bc_util                     0.0003   2.75e-06    107.863      0.000       0.000       0.000\n",
      "num_sats                   -0.0002   1.42e-05    -14.958      0.000      -0.000      -0.000\n",
      "pct_tl_nvr_dlq             -0.0003   8.14e-06    -36.572      0.000      -0.000      -0.000\n",
      "==============================================================================\n",
      "Omnibus:                    49902.425   Durbin-Watson:                   1.842\n",
      "Prob(Omnibus):                  0.000   Jarque-Bera (JB):            72744.664\n",
      "Skew:                           0.956   Prob(JB):                         0.00\n",
      "Kurtosis:                       3.880   Cond. No.                     1.50e+03\n",
      "==============================================================================\n",
      "\n",
      "Warnings:\n",
      "[1] Standard Errors assume that the covariance matrix of the errors is correctly specified.\n",
      "[2] The condition number is large, 1.5e+03. This might indicate that there are\n",
      "strong multicollinearity or other numerical problems.\n"
     ]
    }
   ],
   "source": [
    "# delinq_2yrs 제거한 모형\n",
    "model3 = sm.OLS.from_formula('int_rate ~ I(annual_inc / 1000000) + dti + bc_util + num_sats + pct_tl_nvr_dlq', df2)\n",
    "result3 = model3.fit()\n",
    "print(result3.summary())"
   ]
  },
  {
   "cell_type": "code",
   "execution_count": 82,
   "metadata": {},
   "outputs": [
    {
     "name": "stderr",
     "output_type": "stream",
     "text": [
      "C:\\Users\\Ryoo\\Anaconda3\\lib\\site-packages\\ipykernel_launcher.py:5: SettingWithCopyWarning: \n",
      "A value is trying to be set on a copy of a slice from a DataFrame\n",
      "\n",
      "See the caveats in the documentation: http://pandas.pydata.org/pandas-docs/stable/indexing.html#indexing-view-versus-copy\n",
      "  \"\"\"\n"
     ]
    },
    {
     "data": {
      "text/plain": [
       "array([-0.0022538 , -0.00203404, -0.00194473, -0.00213673, -0.00204167,\n",
       "       -0.00242174, -0.00230067, -0.00227632, -0.00238601, -0.0023228 ])"
      ]
     },
     "execution_count": 82,
     "metadata": {},
     "output_type": "execute_result"
    }
   ],
   "source": [
    "# 교차검증 실시(bc_util의 비어있는 값 전부 제거)\n",
    "df3X = df2.loc[:, ['annual_inc', 'dti', 'bc_util', 'num_sats', 'pct_tl_nvr_dlq']]\n",
    "df3X = sm.add_constant(df3X)\n",
    "df3X.annual_inc = df3X.annual_inc / (10 * 6)\n",
    "df3y = df2[['int_rate']]\n",
    "df3y.drop(df3X.bc_util[df3X.bc_util.isnull()].index, inplace=True)\n",
    "df3X.drop(df3X.bc_util[df3X.bc_util.isnull()].index, inplace=True)\n",
    "\n",
    "from sklearn.model_selection import cross_val_score\n",
    "from sklearn.linear_model import LinearRegression\n",
    "cross_val_score(LinearRegression(), df3X, df3y, scoring='neg_mean_squared_error', cv=10)\n"
   ]
  },
  {
   "cell_type": "code",
   "execution_count": 90,
   "metadata": {},
   "outputs": [
    {
     "name": "stderr",
     "output_type": "stream",
     "text": [
      "C:\\Users\\Ryoo\\Anaconda3\\lib\\site-packages\\scipy\\stats\\_distn_infrastructure.py:879: RuntimeWarning: invalid value encountered in greater\n",
      "  return (self.a < x) & (x < self.b)\n",
      "C:\\Users\\Ryoo\\Anaconda3\\lib\\site-packages\\scipy\\stats\\_distn_infrastructure.py:879: RuntimeWarning: invalid value encountered in less\n",
      "  return (self.a < x) & (x < self.b)\n",
      "C:\\Users\\Ryoo\\Anaconda3\\lib\\site-packages\\scipy\\stats\\_distn_infrastructure.py:1818: RuntimeWarning: invalid value encountered in less_equal\n",
      "  cond2 = cond0 & (x <= self.a)\n"
     ]
    },
    {
     "data": {
      "text/html": [
       "<div>\n",
       "<style>\n",
       "    .dataframe thead tr:only-child th {\n",
       "        text-align: right;\n",
       "    }\n",
       "\n",
       "    .dataframe thead th {\n",
       "        text-align: left;\n",
       "    }\n",
       "\n",
       "    .dataframe tbody tr th {\n",
       "        vertical-align: top;\n",
       "    }\n",
       "</style>\n",
       "<table border=\"1\" class=\"dataframe\">\n",
       "  <thead>\n",
       "    <tr style=\"text-align: right;\">\n",
       "      <th></th>\n",
       "      <th>df</th>\n",
       "      <th>sum_sq</th>\n",
       "      <th>mean_sq</th>\n",
       "      <th>F</th>\n",
       "      <th>PR(&gt;F)</th>\n",
       "    </tr>\n",
       "  </thead>\n",
       "  <tbody>\n",
       "    <tr>\n",
       "      <th>I(annual_inc / 1000000)</th>\n",
       "      <td>1.0</td>\n",
       "      <td>6.347538</td>\n",
       "      <td>6.347538</td>\n",
       "      <td>2883.003773</td>\n",
       "      <td>0.000000e+00</td>\n",
       "    </tr>\n",
       "    <tr>\n",
       "      <th>dti</th>\n",
       "      <td>1.0</td>\n",
       "      <td>39.265722</td>\n",
       "      <td>39.265722</td>\n",
       "      <td>17834.192528</td>\n",
       "      <td>0.000000e+00</td>\n",
       "    </tr>\n",
       "    <tr>\n",
       "      <th>bc_util</th>\n",
       "      <td>1.0</td>\n",
       "      <td>28.878861</td>\n",
       "      <td>28.878861</td>\n",
       "      <td>13116.559145</td>\n",
       "      <td>0.000000e+00</td>\n",
       "    </tr>\n",
       "    <tr>\n",
       "      <th>num_sats</th>\n",
       "      <td>1.0</td>\n",
       "      <td>0.685801</td>\n",
       "      <td>0.685801</td>\n",
       "      <td>311.485747</td>\n",
       "      <td>1.102645e-69</td>\n",
       "    </tr>\n",
       "    <tr>\n",
       "      <th>pct_tl_nvr_dlq</th>\n",
       "      <td>1.0</td>\n",
       "      <td>2.944836</td>\n",
       "      <td>2.944836</td>\n",
       "      <td>1337.522208</td>\n",
       "      <td>2.462348e-292</td>\n",
       "    </tr>\n",
       "    <tr>\n",
       "      <th>Residual</th>\n",
       "      <td>394371.0</td>\n",
       "      <td>868.290609</td>\n",
       "      <td>0.002202</td>\n",
       "      <td>NaN</td>\n",
       "      <td>NaN</td>\n",
       "    </tr>\n",
       "  </tbody>\n",
       "</table>\n",
       "</div>"
      ],
      "text/plain": [
       "                               df      sum_sq    mean_sq             F  \\\n",
       "I(annual_inc / 1000000)       1.0    6.347538   6.347538   2883.003773   \n",
       "dti                           1.0   39.265722  39.265722  17834.192528   \n",
       "bc_util                       1.0   28.878861  28.878861  13116.559145   \n",
       "num_sats                      1.0    0.685801   0.685801    311.485747   \n",
       "pct_tl_nvr_dlq                1.0    2.944836   2.944836   1337.522208   \n",
       "Residual                 394371.0  868.290609   0.002202           NaN   \n",
       "\n",
       "                                PR(>F)  \n",
       "I(annual_inc / 1000000)   0.000000e+00  \n",
       "dti                       0.000000e+00  \n",
       "bc_util                   0.000000e+00  \n",
       "num_sats                  1.102645e-69  \n",
       "pct_tl_nvr_dlq           2.462348e-292  \n",
       "Residual                           NaN  "
      ]
     },
     "execution_count": 90,
     "metadata": {},
     "output_type": "execute_result"
    }
   ],
   "source": [
    "# 분산 분석\n",
    "sms.anova_lm(result3)"
   ]
  },
  {
   "cell_type": "code",
   "execution_count": 91,
   "metadata": {},
   "outputs": [
    {
     "name": "stdout",
     "output_type": "stream",
     "text": [
      "                            OLS Regression Results                            \n",
      "==============================================================================\n",
      "Dep. Variable:               int_rate   R-squared:                       0.082\n",
      "Model:                            OLS   Adj. R-squared:                  0.082\n",
      "Method:                 Least Squares   F-statistic:                     8810.\n",
      "Date:                Sat, 08 Jul 2017   Prob (F-statistic):               0.00\n",
      "Time:                        19:57:02   Log-Likelihood:             6.4680e+05\n",
      "No. Observations:              394377   AIC:                        -1.294e+06\n",
      "Df Residuals:                  394372   BIC:                        -1.294e+06\n",
      "Df Model:                           4                                         \n",
      "Covariance Type:            nonrobust                                         \n",
      "==================================================================================\n",
      "                     coef    std err          t      P>|t|      [0.025      0.975]\n",
      "----------------------------------------------------------------------------------\n",
      "Intercept          0.1238      0.001    157.372      0.000       0.122       0.125\n",
      "annual_inc     -2.078e-06   5.76e-08    -36.083      0.000   -2.19e-06   -1.96e-06\n",
      "dti                0.0010    9.3e-06    112.347      0.000       0.001       0.001\n",
      "bc_util            0.0003   2.71e-06    112.505      0.000       0.000       0.000\n",
      "pct_tl_nvr_dlq    -0.0003   8.12e-06    -37.742      0.000      -0.000      -0.000\n",
      "==============================================================================\n",
      "Omnibus:                    50169.184   Durbin-Watson:                   1.841\n",
      "Prob(Omnibus):                  0.000   Jarque-Bera (JB):            73341.088\n",
      "Skew:                           0.958   Prob(JB):                         0.00\n",
      "Kurtosis:                       3.891   Cond. No.                     1.98e+04\n",
      "==============================================================================\n",
      "\n",
      "Warnings:\n",
      "[1] Standard Errors assume that the covariance matrix of the errors is correctly specified.\n",
      "[2] The condition number is large, 1.98e+04. This might indicate that there are\n",
      "strong multicollinearity or other numerical problems.\n"
     ]
    }
   ],
   "source": [
    "# num_stat 제거한 모형\n",
    "df3 = pd.concat([df3X, df3y], axis=1)\n",
    "model4 = sm.OLS.from_formula('int_rate ~ annual_inc + dti + bc_util + pct_tl_nvr_dlq', df3)\n",
    "result4 = model4.fit()\n",
    "print(result4.summary())"
   ]
  },
  {
   "cell_type": "code",
   "execution_count": null,
   "metadata": {
    "collapsed": true
   },
   "outputs": [],
   "source": []
  }
 ],
 "metadata": {
  "kernelspec": {
   "display_name": "Python 3",
   "language": "python",
   "name": "python3"
  },
  "language_info": {
   "codemirror_mode": {
    "name": "ipython",
    "version": 3
   },
   "file_extension": ".py",
   "mimetype": "text/x-python",
   "name": "python",
   "nbconvert_exporter": "python",
   "pygments_lexer": "ipython3",
   "version": "3.6.1"
  }
 },
 "nbformat": 4,
 "nbformat_minor": 2
}
