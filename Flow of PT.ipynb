{
 "cells": [
  {
   "cell_type": "markdown",
   "metadata": {},
   "source": [
    "\n",
    "\n",
    "1 의미 찾아보려고 분석 시도 했는데 R => 0.1\n",
    "\n",
    "\n",
    "2 아무리 찾아도 관계 없어서 반박하려고 그림 그리고 변수 제거 했더니 R => 0.3\n",
    "\n",
    "2.+. 관련해서 변수를 제거해나가는 과정에 따른 코릴레이션 heatmap 변화 )\n",
    "\n",
    "3. t값 낮은 변수와, w값 비정상인 변수 없애 가면서 f-statistics 와 cond num 잡는 과정.\n",
    "\n",
    "4. 교차검증.\n",
    "\n",
    "5. 추가 변형에 따른 비선형 관계 확인.\n",
    "\n",
    "6. 사실 그레이드랑.. 잘맞... ?(?(\n",
    "\n",
    " \n",
    "요정도 내용들을 플로우 짜서 가야할듯 해요."
   ]
  },
  {
   "cell_type": "markdown",
   "metadata": {},
   "source": [
    "데이터 제목이랑, 설명.\n",
    "int_rate랑 개인정보들, 계좌갯수, 은행한도, 신용관련 것들이 적혀있다. \n",
    "이자율이 사람마다 다르다. \n",
    "신용정보 칼럼으로 이자율을 정하지 않았을까??? ..... \n",
    "\n",
    "* column이 많고, 실수나 정수인 칼럼이 많아서, 상관관계 있는 것들이 나올거라고 생각.\n",
    "주요한 팩터라고 생각하는 column들을 중심으로 넣어서 \n",
    "R^2 => 0.1이 나옴. range(dfx)와의 공산성도 0.1 \n",
    "    -> pca와 기타등등 방법들을 적용했어도...;;;,, \n",
    "\n",
    "* subgrade를 정수로 환원해서 공산성을 계산했을때....,, 선형관계 명확하게 나옴. R^2 값이 0.98\n",
    "-> 절망.... 그림 두개 보여줌. \n",
    "\n",
    "* "
   ]
  }
 ],
 "metadata": {
  "kernelspec": {
   "display_name": "Python 2",
   "language": "python",
   "name": "python2"
  },
  "language_info": {
   "codemirror_mode": {
    "name": "ipython",
    "version": 2
   },
   "file_extension": ".py",
   "mimetype": "text/x-python",
   "name": "python",
   "nbconvert_exporter": "python",
   "pygments_lexer": "ipython2",
   "version": "2.7.13"
  }
 },
 "nbformat": 4,
 "nbformat_minor": 2
}
