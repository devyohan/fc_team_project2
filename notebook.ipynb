{
 "cells": [
  {
   "cell_type": "markdown",
   "metadata": {},
   "source": [
    "# Lending Club Statistics 선형 회귀 분석\n",
    "\n",
    "이 데이터셋에는 현재 대출 상태 (대출중, 연체, 갚음 등) 및 최신 지불 정보를 포함하여 명시된 기간 동안 발행 된 모든 대출에 대한 완전한 대출 데이터가 들어 있습니다. \"현재\"를 통한 대출 데이터가 포함 된 파일에는 이전에 완료 한 달력 분기를 통해 발행 된 모든 대출에 대한 전체 대출 데이터가 들어 있습니다.\n",
    "\n",
    "데이터셋 URL : https://www.lendingclub.com/info/download-data.action\n",
    "\n",
    "* 데이터 셋\n",
    "    * "
   ]
  },
  {
   "cell_type": "code",
   "execution_count": 6,
   "metadata": {
    "collapsed": true
   },
   "outputs": [],
   "source": [
    "# Load Packages\n",
    "import numpy as np\n",
    "import pandas as pd\n",
    "import seaborn as sns\n",
    "import matplotlib.pyplot as plt\n",
    "import statsmodels.api as sm\n",
    "#import dask.dataframe as dd\n",
    "#from dask.diagnostics import ProgressBar\n",
    "\n",
    "# Settings\n",
    "%matplotlib inline\n",
    "sns.set(font=\"NanumGothic\")\n",
    "pbar = ProgressBar()\n",
    "pbar.register()"
   ]
  },
  {
   "cell_type": "markdown",
   "metadata": {},
   "source": [
    "|컬럼명|설명|값 예시|\n",
    "|---|---|---|\n",
    "|loan_amnt|456|123|\n",
    "|term\n",
    "|int_rate\n",
    "|installment\n",
    "|sub_grade\n",
    "|home_ownership\n",
    "|annual_inc|\n",
    "|pymnt_plan|\n",
    "|dti|\n",
    "|delinq_2yrs|\n",
    "|inq_last_6mths|\n",
    "|mths_since_last_delinq|\n",
    "|mths_since_last_record|\n",
    "|open_acc|\n",
    "|pub_rec\n",
    "|revol_bal\n",
    "|revol_util\n",
    "|total_acc\n",
    "|out_prncp\n",
    "|out_prncp_inv\n",
    "|total_pymnt\n",
    "|total_pymnt_inv\n",
    "|total_rec_prncp\n",
    "|total_rec_int\n",
    "|total_rec_late_fee\n",
    "|recoveries\n",
    "|collection_recovery_fee\n",
    "|last_pymnt_amnt|\n",
    "|collections_12_mths_ex_med\n",
    "|mths_since_last_major_derog|\n",
    "|policy_code\n",
    "|application_type\n",
    "|acc_now_delinq\n",
    "|tot_coll_amt\n",
    "|tot_cur_bal\n",
    "|open_acc_6m\n",
    "|open_il_6m|\n",
    "|open_il_12m\n",
    "|open_il_24m\n",
    "|mths_since_rcnt_il\n",
    "|total_bal_il\n",
    "|il_util\n",
    "|open_rv_12m\n",
    "|open_rv_24m\n",
    "|max_bal_bc\n",
    "|all_util\n",
    "|total_rev_hi_lim\n",
    "|inq_fi\n",
    "|total_cu_tl\n",
    "|inq_last_12m\n",
    "|acc_open_past_24mths\n",
    "|avg_cur_bal\n",
    "|bc_open_to_buy\n",
    "|bc_util\n",
    "|chargeoff_within_12_mths\n",
    "|delinq_amnt\n",
    "|mo_sin_old_il_acct\n",
    "|mo_sin_old_rev_tl_op\n",
    "|mo_sin_rcnt_rev_tl_op\n",
    "|mo_sin_rcnt_tl\n",
    "|mort_acc\n",
    "|mths_since_recent_bc\n",
    "|mths_since_recent_bc_dlq\n",
    "|mths_since_recent_inq|\n",
    "|mths_since_recent_revol_delinq|\n",
    "|num_accts_ever_120_pd\n",
    "|num_actv_bc_tl\n",
    "|num_actv_rev_tl|\n",
    "|num_bc_sats\n",
    "|num_bc_tl|\n",
    "|num_il_tl\n",
    "|num_op_rev_tl\n",
    "|num_rev_accts\n",
    "|num_rev_tl_bal_gt_0\n",
    "|num_sats\n",
    "|num_tl_120dpd_2m\n",
    "|num_tl_30dpd\n",
    "|num_tl_90g_dpd_24m\n",
    "|num_tl_op_past_12m|\n",
    "|pct_tl_nvr_dlq|\n",
    "|percent_bc_gt_75|\n",
    "|pub_rec_bankruptcies|\n",
    "|tax_liens|\n",
    "|tot_hi_cred_lim|\n",
    "|total_bal_ex_mort|\n",
    "|total_bc_limit|\n",
    "|total_il_high_credit_limit|\n"
   ]
  },
  {
   "cell_type": "markdown",
   "metadata": {},
   "source": [
    "## 데이터 불러오기\n",
    "\n",
    "* 데이터 상세 내용\n",
    "    * 154MB\n",
    "    * 첫번째 줄에 features 문자\n",
    "    * 422,723 건    "
   ]
  },
  {
   "cell_type": "code",
   "execution_count": 2,
   "metadata": {},
   "outputs": [],
   "source": [
    "csvdata = pd.read_csv(\"/home/dockeruser/hosthome/Documents/workspaces/projects/fc_team_project2/datasets/lcdf2.csv\")"
   ]
  },
  {
   "cell_type": "code",
   "execution_count": 11,
   "metadata": {},
   "outputs": [
    {
     "data": {
      "text/plain": [
       "Index([u'Unnamed: 0', u'loan_amnt', u'term', u'int_rate', u'installment',\n",
       "       u'sub_grade', u'home_ownership', u'annual_inc', u'pymnt_plan', u'dti',\n",
       "       u'delinq_2yrs', u'inq_last_6mths', u'mths_since_last_delinq',\n",
       "       u'mths_since_last_record', u'open_acc', u'pub_rec', u'revol_bal',\n",
       "       u'revol_util', u'total_acc', u'out_prncp', u'out_prncp_inv',\n",
       "       u'total_pymnt', u'total_pymnt_inv', u'total_rec_prncp',\n",
       "       u'total_rec_int', u'total_rec_late_fee', u'recoveries',\n",
       "       u'collection_recovery_fee', u'last_pymnt_amnt',\n",
       "       u'collections_12_mths_ex_med', u'mths_since_last_major_derog',\n",
       "       u'policy_code', u'application_type', u'acc_now_delinq', u'tot_coll_amt',\n",
       "       u'tot_cur_bal', u'open_acc_6m', u'open_il_6m', u'open_il_12m',\n",
       "       u'open_il_24m', u'mths_since_rcnt_il', u'total_bal_il', u'il_util',\n",
       "       u'open_rv_12m', u'open_rv_24m', u'max_bal_bc', u'all_util',\n",
       "       u'total_rev_hi_lim', u'inq_fi', u'total_cu_tl', u'inq_last_12m',\n",
       "       u'acc_open_past_24mths', u'avg_cur_bal', u'bc_open_to_buy', u'bc_util',\n",
       "       u'chargeoff_within_12_mths', u'delinq_amnt', u'mo_sin_old_il_acct',\n",
       "       u'mo_sin_old_rev_tl_op', u'mo_sin_rcnt_rev_tl_op', u'mo_sin_rcnt_tl',\n",
       "       u'mort_acc', u'mths_since_recent_bc', u'mths_since_recent_bc_dlq',\n",
       "       u'mths_since_recent_inq', u'mths_since_recent_revol_delinq',\n",
       "       u'num_accts_ever_120_pd', u'num_actv_bc_tl', u'num_actv_rev_tl',\n",
       "       u'num_bc_sats', u'num_bc_tl', u'num_il_tl', u'num_op_rev_tl',\n",
       "       u'num_rev_accts', u'num_rev_tl_bal_gt_0', u'num_sats',\n",
       "       u'num_tl_120dpd_2m', u'num_tl_30dpd', u'num_tl_90g_dpd_24m',\n",
       "       u'num_tl_op_past_12m', u'pct_tl_nvr_dlq', u'percent_bc_gt_75',\n",
       "       u'pub_rec_bankruptcies', u'tax_liens', u'tot_hi_cred_lim',\n",
       "       u'total_bal_ex_mort', u'total_bc_limit', u'total_il_high_credit_limit'],\n",
       "      dtype='object')"
      ]
     },
     "execution_count": 11,
     "metadata": {},
     "output_type": "execute_result"
    }
   ],
   "source": [
    "csvdata.columns"
   ]
  },
  {
   "cell_type": "markdown",
   "metadata": {},
   "source": [
    "## 데이터 전처리 과정"
   ]
  },
  {
   "cell_type": "markdown",
   "metadata": {},
   "source": [
    "### 이자율 데이터를 실수로 변환\n",
    "\n",
    "원본 데이터에는 18.8% 형식의 문자열 데이터로 되어 있어 '%' 문자열을 제거하여 실수형으로 변환하였습니다."
   ]
  },
  {
   "cell_type": "code",
   "execution_count": 3,
   "metadata": {},
   "outputs": [],
   "source": [
    "def p2f(x):\n",
    "    return float(x.strip('%')) / 100\n",
    "\n",
    "csvdata['int_rate'] = csvdata.int_rate.map(p2f)"
   ]
  },
  {
   "cell_type": "code",
   "execution_count": 4,
   "metadata": {},
   "outputs": [],
   "source": [
    "asdf = sm.OLS.from_formula(\"int_rate ~ last_pymnt_amnt\", data=csvdata).fit()"
   ]
  },
  {
   "cell_type": "code",
   "execution_count": 5,
   "metadata": {},
   "outputs": [
    {
     "data": {
      "text/html": [
       "<table class=\"simpletable\">\n",
       "<caption>OLS Regression Results</caption>\n",
       "<tr>\n",
       "  <th>Dep. Variable:</th>        <td>int_rate</td>     <th>  R-squared:         </th>  <td>   0.005</td> \n",
       "</tr>\n",
       "<tr>\n",
       "  <th>Model:</th>                   <td>OLS</td>       <th>  Adj. R-squared:    </th>  <td>   0.005</td> \n",
       "</tr>\n",
       "<tr>\n",
       "  <th>Method:</th>             <td>Least Squares</td>  <th>  F-statistic:       </th>  <td>   1997.</td> \n",
       "</tr>\n",
       "<tr>\n",
       "  <th>Date:</th>             <td>Tue, 11 Jul 2017</td> <th>  Prob (F-statistic):</th>   <td>  0.00</td>  \n",
       "</tr>\n",
       "<tr>\n",
       "  <th>Time:</th>                 <td>10:11:15</td>     <th>  Log-Likelihood:    </th> <td>6.7555e+05</td>\n",
       "</tr>\n",
       "<tr>\n",
       "  <th>No. Observations:</th>      <td>422724</td>      <th>  AIC:               </th> <td>-1.351e+06</td>\n",
       "</tr>\n",
       "<tr>\n",
       "  <th>Df Residuals:</th>          <td>422722</td>      <th>  BIC:               </th> <td>-1.351e+06</td>\n",
       "</tr>\n",
       "<tr>\n",
       "  <th>Df Model:</th>              <td>     1</td>      <th>                     </th>      <td> </td>    \n",
       "</tr>\n",
       "<tr>\n",
       "  <th>Covariance Type:</th>      <td>nonrobust</td>    <th>                     </th>      <td> </td>    \n",
       "</tr>\n",
       "</table>\n",
       "<table class=\"simpletable\">\n",
       "<tr>\n",
       "         <td></td>            <th>coef</th>     <th>std err</th>      <th>t</th>      <th>P>|t|</th>  <th>[0.025</th>    <th>0.975]</th>  \n",
       "</tr>\n",
       "<tr>\n",
       "  <th>Intercept</th>       <td>    0.1285</td> <td> 8.07e-05</td> <td> 1591.791</td> <td> 0.000</td> <td>    0.128</td> <td>    0.129</td>\n",
       "</tr>\n",
       "<tr>\n",
       "  <th>last_pymnt_amnt</th> <td> 6.728e-07</td> <td> 1.51e-08</td> <td>   44.692</td> <td> 0.000</td> <td> 6.43e-07</td> <td> 7.02e-07</td>\n",
       "</tr>\n",
       "</table>\n",
       "<table class=\"simpletable\">\n",
       "<tr>\n",
       "  <th>Omnibus:</th>       <td>43008.741</td> <th>  Durbin-Watson:     </th> <td>   1.834</td> \n",
       "</tr>\n",
       "<tr>\n",
       "  <th>Prob(Omnibus):</th>  <td> 0.000</td>   <th>  Jarque-Bera (JB):  </th> <td>57796.979</td>\n",
       "</tr>\n",
       "<tr>\n",
       "  <th>Skew:</th>           <td> 0.851</td>   <th>  Prob(JB):          </th> <td>    0.00</td> \n",
       "</tr>\n",
       "<tr>\n",
       "  <th>Kurtosis:</th>       <td> 3.619</td>   <th>  Cond. No.          </th> <td>5.75e+03</td> \n",
       "</tr>\n",
       "</table>"
      ],
      "text/plain": [
       "<class 'statsmodels.iolib.summary.Summary'>\n",
       "\"\"\"\n",
       "                            OLS Regression Results                            \n",
       "==============================================================================\n",
       "Dep. Variable:               int_rate   R-squared:                       0.005\n",
       "Model:                            OLS   Adj. R-squared:                  0.005\n",
       "Method:                 Least Squares   F-statistic:                     1997.\n",
       "Date:                Tue, 11 Jul 2017   Prob (F-statistic):               0.00\n",
       "Time:                        10:11:15   Log-Likelihood:             6.7555e+05\n",
       "No. Observations:              422724   AIC:                        -1.351e+06\n",
       "Df Residuals:                  422722   BIC:                        -1.351e+06\n",
       "Df Model:                           1                                         \n",
       "Covariance Type:            nonrobust                                         \n",
       "===================================================================================\n",
       "                      coef    std err          t      P>|t|      [0.025      0.975]\n",
       "-----------------------------------------------------------------------------------\n",
       "Intercept           0.1285   8.07e-05   1591.791      0.000       0.128       0.129\n",
       "last_pymnt_amnt  6.728e-07   1.51e-08     44.692      0.000    6.43e-07    7.02e-07\n",
       "==============================================================================\n",
       "Omnibus:                    43008.741   Durbin-Watson:                   1.834\n",
       "Prob(Omnibus):                  0.000   Jarque-Bera (JB):            57796.979\n",
       "Skew:                           0.851   Prob(JB):                         0.00\n",
       "Kurtosis:                       3.619   Cond. No.                     5.75e+03\n",
       "==============================================================================\n",
       "\n",
       "Warnings:\n",
       "[1] Standard Errors assume that the covariance matrix of the errors is correctly specified.\n",
       "[2] The condition number is large, 5.75e+03. This might indicate that there are\n",
       "strong multicollinearity or other numerical problems.\n",
       "\"\"\""
      ]
     },
     "execution_count": 5,
     "metadata": {},
     "output_type": "execute_result"
    }
   ],
   "source": [
    "asdf.summary()"
   ]
  }
 ],
 "metadata": {
  "kernelspec": {
   "display_name": "Python 2",
   "language": "python",
   "name": "python2"
  },
  "language_info": {
   "codemirror_mode": {
    "name": "ipython",
    "version": 2
   },
   "file_extension": ".py",
   "mimetype": "text/x-python",
   "name": "python",
   "nbconvert_exporter": "python",
   "pygments_lexer": "ipython2",
   "version": "2.7.13"
  }
 },
 "nbformat": 4,
 "nbformat_minor": 2
}
