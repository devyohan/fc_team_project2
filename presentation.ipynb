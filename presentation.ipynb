{
 "cells": [
  {
   "cell_type": "markdown",
   "metadata": {},
   "source": [
    "\n",
    "\n",
    "1 의미 찾아보려고 분석 시도 했는데 R => 0.1\n",
    "\n",
    "\n",
    "[2:57] \n",
    "2 아무리 찾아도 관계 없어서 반박하려고 그림 그리고 변수 제거 했더니 R => 0.3\n",
    "\n",
    "\n",
    "[2:57] \n",
    "2.+. 관련해서 변수를 제거해나가는 과정에 따른 코릴레이션 heatmap 변화 )\n",
    "\n",
    "\n",
    "[2:58] \n",
    "3. t값 낮은 변수와, w값 비정상인 변수 없애 가면서 f-statistics 와 cond num 잡는 과정.\n",
    "\n",
    "\n",
    "[2:58] \n",
    "4. 교차검증.\n",
    "\n",
    "\n",
    "[2:58] \n",
    "5. 추가 변형에 따른 비선형 관계 확인.\n",
    "\n",
    "\n",
    "[2:59] \n",
    "6. 사실 그레이드랑.. 잘맞... ?(?(\n",
    "\n",
    "\n",
    "[2:59] \n",
    "요정도 내용들을 플로우 짜서 가야할듯 해요."
   ]
  },
  {
   "cell_type": "code",
   "execution_count": 1,
   "metadata": {
    "collapsed": true
   },
   "outputs": [],
   "source": [
    "#dfData3 = pd.read_csv('~/hosthome/Documents/workspaces/projects/fc_team_project2/datasets/lcdf3.csv')\n",
    "dfData = pd.read_csv(\"~/hosthome/Documents/workspaces/projects/fc_team_project2/datasets/lcdf4.csv\")"
   ]
  },
  {
   "cell_type": "markdown",
   "metadata": {},
   "source": [
    "# 데이터 소개"
   ]
  },
  {
   "cell_type": "code",
   "execution_count": null,
   "metadata": {
    "collapsed": true
   },
   "outputs": [],
   "source": []
  },
  {
   "cell_type": "markdown",
   "metadata": {},
   "source": [
    "# 모델 생성 작업"
   ]
  },
  {
   "cell_type": "code",
   "execution_count": null,
   "metadata": {
    "collapsed": true
   },
   "outputs": [],
   "source": []
  }
 ],
 "metadata": {
  "kernelspec": {
   "display_name": "Python 2",
   "language": "python",
   "name": "python2"
  },
  "language_info": {
   "codemirror_mode": {
    "name": "ipython",
    "version": 2
   },
   "file_extension": ".py",
   "mimetype": "text/x-python",
   "name": "python",
   "nbconvert_exporter": "python",
   "pygments_lexer": "ipython2",
   "version": "2.7.13"
  }
 },
 "nbformat": 4,
 "nbformat_minor": 2
}
