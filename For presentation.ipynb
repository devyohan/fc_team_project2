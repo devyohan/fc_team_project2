{
 "cells": [
  {
   "cell_type": "markdown",
   "metadata": {},
   "source": [
    "# well-qualified buyers의 조건은 크게 3가지\n",
    "\n",
    "##  1. 크레딧 점수와 사용실적 (50%)\n",
    "##  2. 직업과 개인소득 (30%)\n",
    "##  3. 다운페이먼트 (20%)\n",
    "\n",
    "###    1. 신용등급 산정기준\n",
    "\n",
    "1. 35%는 대출상환이력과, 파산, 차압, 채무, 및 세금 저당권과의 관계\n",
    "\n",
    "2. 30%는 카드사용실적과 여러 계좌의 개수, 신용카드 한도액, 신용카드 사용액, 그리고 신용카드 한도액과 사용액의 비율이 \n",
    "\n",
    "3. 15%는 신용거래기간과 관계가 있습니다. \n",
    "   -일반적으로 미국서 집을 구입하실때 좋은 모기지 은행과 거래를 하시려면 24개월 이상된 3개의 계좌가 있으시다면 아주 유리합니다.\n",
    "\n",
    "4. 10%는 금융기관의 신용조회건수와 관계가 있습니다.\n",
    "   -최근 90일이내의 신용조회횟수와 누가 언제 조회를 했는지 알 수 있습니다. \n",
    "5. 10%는 여러가지 기타 상황에 따라서 결정됩니다.\n",
    "\n",
    "https://www.dcapp.org/dmv/2291"
   ]
  },
  {
   "cell_type": "code",
   "execution_count": null,
   "metadata": {
    "collapsed": true
   },
   "outputs": [],
   "source": []
  }
 ],
 "metadata": {
  "kernelspec": {
   "display_name": "Python 2",
   "language": "python",
   "name": "python2"
  },
  "language_info": {
   "codemirror_mode": {
    "name": "ipython",
    "version": 2
   },
   "file_extension": ".py",
   "mimetype": "text/x-python",
   "name": "python",
   "nbconvert_exporter": "python",
   "pygments_lexer": "ipython2",
   "version": "2.7.13"
  }
 },
 "nbformat": 4,
 "nbformat_minor": 2
}
